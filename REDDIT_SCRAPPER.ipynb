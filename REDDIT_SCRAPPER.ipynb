{
 "cells": [
  {
   "cell_type": "markdown",
   "metadata": {},
   "source": [
    "# **Reddit Scrapper**"
   ]
  },
  {
   "cell_type": "markdown",
   "metadata": {},
   "source": [
    "Doesn't work as well on Google Colab. We recommend running this locally and then exporting the files."
   ]
  },
  {
   "cell_type": "code",
   "execution_count": 5,
   "metadata": {},
   "outputs": [
    {
     "name": "stdout",
     "output_type": "stream",
     "text": [
      "/Users/gabriela/Desktop/ic/SentiMentalHealth/data/\n"
     ]
    }
   ],
   "source": [
    "import os\n",
    "import subprocess\n",
    "\n",
    "\n",
    "SUBREDDITS = ['AnsiedadeDepressao'] \n",
    "DATADIR = os.getcwd() + \"/data/\"\n",
    "print(DATADIR)\n",
    "if \"data\" not in os.listdir():\n",
    "    os.makedirs(os.getcwd() + \"/data/\")\n",
    "assert \"src\" in os.listdir() "
   ]
  },
  {
   "cell_type": "code",
   "execution_count": 6,
   "metadata": {},
   "outputs": [
    {
     "name": "stdout",
     "output_type": "stream",
     "text": [
      "python scraper.py --subreddit AnsiedadeDepressao\n",
      "b'/bin/sh: python: command not found\\n'\n",
      "Error code: 127\n"
     ]
    }
   ],
   "source": [
    "for subreddit in SUBREDDITS:\n",
    "    command = f\"python scraper.py --subreddit {subreddit}\"\n",
    "    print(command)\n",
    "    proc = subprocess.Popen(command, shell=True, stdout=subprocess.PIPE, stderr=subprocess.STDOUT)\n",
    "    while proc.poll() is None:\n",
    "        print(proc.stdout.readline()) #give output from your execution/your own message\n",
    "    commandResult = proc.wait() #catch return code\n",
    "    \n",
    "    if commandResult != 0:\n",
    "        print(f'Error code: {commandResult}')\n",
    "    else:\n",
    "        print('Data successfully crawled.\\n')    "
   ]
  }
 ],
 "metadata": {
  "colab": {
   "collapsed_sections": [],
   "name": "RedditCrawler_v2 REPLACE BY v3.ipynb",
   "provenance": []
  },
  "kernelspec": {
   "display_name": "Python 3",
   "language": "python",
   "name": "python3"
  },
  "language_info": {
   "codemirror_mode": {
    "name": "ipython",
    "version": 3
   },
   "file_extension": ".py",
   "mimetype": "text/x-python",
   "name": "python",
   "nbconvert_exporter": "python",
   "pygments_lexer": "ipython3",
   "version": "3.11.0"
  },
  "vscode": {
   "interpreter": {
    "hash": "1a1af0ee75eeea9e2e1ee996c87e7a2b11a0bebd85af04bb136d915cefc0abce"
   }
  }
 },
 "nbformat": 4,
 "nbformat_minor": 1
}
